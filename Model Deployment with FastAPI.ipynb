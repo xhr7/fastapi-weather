{
 "cells": [
  {
   "cell_type": "markdown",
   "metadata": {},
   "source": [
    "# Model Deployment with FastAPI"
   ]
  },
  {
   "cell_type": "markdown",
   "metadata": {},
   "source": [
    "## Introduction\n"
   ]
  },
  {
   "cell_type": "markdown",
   "metadata": {},
   "source": [
    "\n",
    "FASTAPI is a modern web framework designed for high-performance API development. It is ideal for deploying AI models due to its speed, type safety, and built-in documentation.\n"
   ]
  },
  {
   "cell_type": "markdown",
   "metadata": {},
   "source": [
    "\n",
    "## Dataset Generation\n"
   ]
  },
  {
   "cell_type": "markdown",
   "metadata": {},
   "source": [
    "\n",
    "To train our model, we generate synthetic data consisting of temperature, weather conditions, and day of the week."
   ]
  },
  {
   "cell_type": "code",
   "execution_count": 11,
   "metadata": {},
   "outputs": [],
   "source": [
    "import numpy as np\n",
    "import pandas as pd\n",
    "from sklearn.linear_model import LinearRegression\n",
    "from sklearn.preprocessing import OneHotEncoder\n",
    "import joblib\n",
    "\n",
    "# generate synthetic data\n",
    "data_size = 4000\n",
    "np.random.seed(42)\n",
    "temperature = np.random.uniform(-10, 40, data_size)  # Random temperatures in Celsius\n",
    "weather_options = np.array(['rainy', 'clear', 'cloudy'])\n",
    "weather = np.random.choice(weather_options, data_size)\n",
    "weekday = np.random.randint(0, 7, data_size)  # 0=Sunday, 6=Saturday\n",
    "\n",
    "# create DataFrame\n",
    "df = pd.DataFrame({'temperature': temperature, 'weather': weather, 'weekday': weekday})"
   ]
  },
  {
   "cell_type": "markdown",
   "metadata": {},
   "source": [
    "\n",
    "\n",
    "## Encoding Weather Feature\n"
   ]
  },
  {
   "cell_type": "code",
   "execution_count": 14,
   "metadata": {},
   "outputs": [
    {
     "data": {
      "text/plain": [
       "['weather_encoder.pkl']"
      ]
     },
     "execution_count": 14,
     "metadata": {},
     "output_type": "execute_result"
    }
   ],
   "source": [
    "# define the encoder and fit it with possible values\n",
    "weather_encoder = OneHotEncoder()\n",
    "weather_encoded = weather_encoder.fit_transform(df[['weather']]).toarray()\n",
    "\n",
    "# convert encoded values to DataFrame\n",
    "encoded_columns = weather_encoder.get_feature_names_out(['weather'])\n",
    "df_encoded = pd.DataFrame(data=weather_encoded, columns=encoded_columns)\n",
    "\n",
    "# concatenate encoded features with original DataFrame\n",
    "df = pd.concat([df, df_encoded], axis=1).drop(columns=['weather'])\n",
    "\n",
    "# save the encoder\n",
    "joblib.dump(weather_encoder, \"weather_encoder.pkl\")"
   ]
  },
  {
   "cell_type": "markdown",
   "metadata": {},
   "source": [
    "\n",
    "## Model Training\n"
   ]
  },
  {
   "cell_type": "code",
   "execution_count": 15,
   "metadata": {},
   "outputs": [
    {
     "data": {
      "text/plain": [
       "['model.pkl']"
      ]
     },
     "execution_count": 15,
     "metadata": {},
     "output_type": "execute_result"
    }
   ],
   "source": [
    "# define features and target\n",
    "X = df[['temperature', 'weather_rainy', 'weather_clear', 'weather_cloudy', 'weekday']]\n",
    "y = X['temperature'] * 0.3 + X['weather_rainy'] * 5 - X['weather_clear'] * 2 + X['weekday'] * 0.1 + np.random.randn(data_size) * 2  # Example target\n",
    "\n",
    "# train a simple linear regression model\n",
    "model = LinearRegression()\n",
    "model.fit(X, y)\n",
    "\n",
    "# save the model\n",
    "joblib.dump(model, \"model.pkl\")"
   ]
  },
  {
   "cell_type": "markdown",
   "metadata": {},
   "source": [
    "\n",
    "## Introduction to Joblib\n"
   ]
  },
  {
   "cell_type": "markdown",
   "metadata": {},
   "source": [
    "\n",
    "Joblib is a Python library used for efficiently saving and loading machine learning models and preprocessors.\n"
   ]
  },
  {
   "cell_type": "markdown",
   "metadata": {},
   "source": [
    "\n",
    "## Loading the Model and Encoder\n",
    "\n"
   ]
  },
  {
   "cell_type": "code",
   "execution_count": 16,
   "metadata": {},
   "outputs": [],
   "source": [
    "import joblib\n",
    "\n",
    "# load pre-trained model and encoder\n",
    "model = joblib.load(\"model.pkl\")\n",
    "weather_encoder = joblib.load(\"weather_encoder.pkl\")\n"
   ]
  },
  {
   "cell_type": "markdown",
   "metadata": {},
   "source": [
    "\n",
    "## Introduction to Pydantic\n"
   ]
  },
  {
   "cell_type": "markdown",
   "metadata": {},
   "source": [
    "\n",
    "Pydantic is used for data validation in FastAPI. It ensures strict data structures for API requests.\n"
   ]
  },
  {
   "cell_type": "markdown",
   "metadata": {},
   "source": [
    "\n",
    "### Defining Model Input Schema\n",
    "\n"
   ]
  },
  {
   "cell_type": "code",
   "execution_count": 17,
   "metadata": {},
   "outputs": [],
   "source": [
    "from pydantic import BaseModel\n",
    "from typing import Literal\n",
    "\n",
    "class ModelInput(BaseModel):\n",
    "    temperature: float  # Temperature in Celsius\n",
    "    weather: Literal['rainy', 'clear', 'cloudy']  # Categorical weather condition\n",
    "    weekday: int  # Integer representing the day of the week (0=Sunday, 6=Saturday)"
   ]
  },
  {
   "cell_type": "markdown",
   "metadata": {},
   "source": [
    "## Creating FastAPI Endpoint\n"
   ]
  },
  {
   "cell_type": "markdown",
   "metadata": {},
   "source": [
    "\n",
    "To start, we create a simple FastAPI endpoint to return a basic message.\n"
   ]
  },
  {
   "cell_type": "markdown",
   "metadata": {},
   "source": [
    "\n",
    "### Full Code for Simple Example\n"
   ]
  },
  {
   "cell_type": "markdown",
   "metadata": {},
   "source": [
    "\n",
    "Save the following code as `main.py`:\n",
    "\n"
   ]
  },
  {
   "cell_type": "code",
   "execution_count": 21,
   "metadata": {},
   "outputs": [
    {
     "name": "stderr",
     "output_type": "stream",
     "text": [
      "WARNING:  You must pass the application as an import string to enable 'reload' or 'workers'.\n"
     ]
    },
    {
     "ename": "SystemExit",
     "evalue": "1",
     "output_type": "error",
     "traceback": [
      "An exception has occurred, use %tb to see the full traceback.\n",
      "\u001b[31mSystemExit\u001b[39m\u001b[31m:\u001b[39m 1\n"
     ]
    },
    {
     "name": "stderr",
     "output_type": "stream",
     "text": [
      "/Users/rahafmasmali/Desktop/T2/templets/fastAPI/venv/lib/python3.13/site-packages/IPython/core/interactiveshell.py:3557: UserWarning: To exit: use 'exit', 'quit', or Ctrl-D.\n",
      "  warn(\"To exit: use 'exit', 'quit', or Ctrl-D.\", stacklevel=1)\n"
     ]
    }
   ],
   "source": [
    "from fastapi import FastAPI\n",
    "\n",
    "app = FastAPI()\n",
    "\n",
    "@app.get(\"/\")\n",
    "def home():\n",
    "    return {\"message\": \"FastAPI is running!\"}\n",
    "\n",
    "if __name__ == \"__main__\":\n",
    "    import uvicorn\n",
    "    uvicorn.run(app, host=\"0.0.0.0\", port=8000, reload=True)"
   ]
  },
  {
   "cell_type": "markdown",
   "metadata": {},
   "source": [
    "### Running the API with Uvicorn"
   ]
  },
  {
   "cell_type": "markdown",
   "metadata": {},
   "source": [
    "```bash\n",
    "uvicorn main:app --host 127.0.0.1 --port 8000 --reload\n",
    "```"
   ]
  },
  {
   "cell_type": "markdown",
   "metadata": {},
   "source": [
    "### Testing with cURL\n",
    "\n",
    "```bash\n",
    "curl -X GET \"http://127.0.0.1:8000/\"\n",
    "```"
   ]
  },
  {
   "cell_type": "markdown",
   "metadata": {},
   "source": [
    "### Testing with Python Requests"
   ]
  },
  {
   "cell_type": "code",
   "execution_count": 25,
   "metadata": {},
   "outputs": [
    {
     "name": "stdout",
     "output_type": "stream",
     "text": [
      "{'detail': 'Not Found'}\n"
     ]
    }
   ],
   "source": [
    "import requests\n",
    "\n",
    "url = \"http://127.0.0.1:8000/\"\n",
    "response = requests.get(url)\n",
    "print(response.json())"
   ]
  },
  {
   "cell_type": "markdown",
   "metadata": {},
   "source": [
    "## Deployment Strategies\n"
   ]
  },
  {
   "cell_type": "markdown",
   "metadata": {},
   "source": [
    "\n",
    "- **Docker**: Containerizing the API for portability.\n",
    "- **Cloud Services**: Deploying on AWS, GCP, or Azure.\n",
    "- **Serverless**: Using platforms like AWS Lambda or Google Cloud Run.\n",
    "- **Render**: Deploying on Render for simplicity and ease of use.\n",
    "\n"
   ]
  },
  {
   "cell_type": "markdown",
   "metadata": {},
   "source": [
    "## Deploying on Render"
   ]
  },
  {
   "cell_type": "markdown",
   "metadata": {},
   "source": [
    "### Steps to Deploy"
   ]
  },
  {
   "cell_type": "markdown",
   "metadata": {},
   "source": [
    "\n",
    "1. **Create a `requirements.txt` file**\n",
    "\n",
    "```txt\n",
    "fastapi\n",
    "uvicorn\n",
    "joblib\n",
    "scikit-learn\n",
    "numpy\n",
    "pandas\n",
    "```\n",
    "\n",
    "2. **Create a `start.sh` script**\n",
    "\n",
    "```bash\n",
    "#!/bin/bash\n",
    "uvicorn main:app --host 127.0.0.1 --port $PORT\n",
    "```\n",
    "\n",
    "3. **Push the code to GitHub**\n",
    "4. **Go to [Render](https://render.com/) and create a new Web Service**\n",
    "5. **Connect your GitHub repository**\n",
    "6. **Set the Build Command**\n",
    "\n",
    "```bash\n",
    "pip install -r requirements.txt\n",
    "```\n",
    "\n",
    "7. **Set the Start Command**\n",
    "\n",
    "```bash\n",
    "bash start.sh\n",
    "```\n",
    "\n",
    "8. **Deploy and test your API**\n",
    "\n"
   ]
  },
  {
   "cell_type": "markdown",
   "metadata": {},
   "source": [
    "## Exercise: Implement the Full Model Endpoint\n",
    "\n",
    "Below is a skeleton structure to guide your implementation. Complete the script using the knowledge from previous sections.\n",
    "\n"
   ]
  },
  {
   "cell_type": "code",
   "execution_count": null,
   "metadata": {},
   "outputs": [],
   "source": [
    "from fastapi import FastAPI\n",
    "from pydantic import BaseModel\n",
    "from typing import Literal\n",
    "import joblib\n",
    "\n",
    "# define input schema\n",
    "#...\n",
    "\n",
    "# initialize FastAPI\n",
    "#...\n",
    "\n",
    "# load model and encoder\n",
    "#...\n",
    "\n",
    "# define prediction endpoint\n",
    "@app.post(\"/predict\")\n",
    "def predict(data: ModelInput):\n",
    "    # encode categorical input\n",
    "    #...\n",
    "    \n",
    "    # create feature vector\n",
    "    #...\n",
    "    \n",
    "    # generate prediction\n",
    "    #...\n",
    "    \n",
    "    return {\"prediction\": None}\n",
    "\n",
    "if __name__ == \"__main__\":\n",
    "    import uvicorn\n",
    "    uvicorn.run(app, host=\"0.0.0.0\", port=8000, reload=True)"
   ]
  },
  {
   "cell_type": "markdown",
   "metadata": {},
   "source": [
    "### Running the Full Model Endpoint"
   ]
  },
  {
   "cell_type": "markdown",
   "metadata": {},
   "source": [
    "\n",
    "```bash\n",
    "uvicorn main:app --host {Render_URL} --port {Render_Port} --reload\n",
    "```\n"
   ]
  },
  {
   "cell_type": "markdown",
   "metadata": {},
   "source": [
    "### Testing with cURL"
   ]
  },
  {
   "cell_type": "markdown",
   "metadata": {},
   "source": [
    "\n",
    "```bash\n",
    "curl -X POST \"http://{Render_URL}:{Render_Port}/predict\" \\\n",
    "     -H \"Content-Type: application/json\" \\\n",
    "     -d '{\"temperature\": 25.0, \"weather\": \"clear\", \"weekday\": 2}'\n",
    "```\n"
   ]
  },
  {
   "cell_type": "markdown",
   "metadata": {},
   "source": [
    "### Testing with Python Requests in deployed Streamlit app"
   ]
  },
  {
   "cell_type": "code",
   "execution_count": null,
   "metadata": {},
   "outputs": [],
   "source": [
    "import requests\n",
    "\n",
    "#... other code ...\n",
    "\n",
    "# use streamlit inputs here\n",
    "url = \"http://{Render_URL}:{Render_Port}/predict\"\n",
    "data = {\n",
    "    \"temperature\": None, # streamlit input here\n",
    "    \"weather\": None, # streamlit input here\n",
    "    \"weekday\": None # streamlit input here\n",
    "}\n",
    "response = requests.post(url, json=data)\n",
    "print(response.json())\n",
    "\n",
    "#... other code ..."
   ]
  }
 ],
 "metadata": {
  "kernelspec": {
   "display_name": "venv",
   "language": "python",
   "name": "python3"
  },
  "language_info": {
   "codemirror_mode": {
    "name": "ipython",
    "version": 3
   },
   "file_extension": ".py",
   "mimetype": "text/x-python",
   "name": "python",
   "nbconvert_exporter": "python",
   "pygments_lexer": "ipython3",
   "version": "3.13.1"
  }
 },
 "nbformat": 4,
 "nbformat_minor": 2
}
